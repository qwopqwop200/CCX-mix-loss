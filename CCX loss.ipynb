{
 "cells": [
  {
   "cell_type": "code",
   "execution_count": 2,
   "metadata": {},
   "outputs": [],
   "source": [
    "import torch\n",
    "import torch.nn as nn\n",
    "import numpy as np\n",
    "\\If you are using ccx loss, first get the feature map using vgg19 for both images and then put it in the function"
   ]
  },
  {
   "cell_type": "code",
   "execution_count": 9,
   "metadata": {},
   "outputs": [],
   "source": [
    "class CCX_loss(nn.Module):\n",
    "    def __init__(self,h=0.5,eps=1e-6):\n",
    "        super(CCX_loss, self).__init__()\n",
    "        self.h = h\n",
    "        self.eps = eps\n",
    "    def forward(self, x, y):\n",
    "        N, C, H, W = x.size()\n",
    "\n",
    "        y_mu = y.mean(3).mean(2).mean(0).reshape(1, -1, 1, 1)\n",
    "\n",
    "        x_centered = x - y_mu\n",
    "        y_centered = y - y_mu\n",
    "        x_normalized = x_centered / torch.norm(x_centered, p=2, dim=1, keepdim=True)\n",
    "        y_normalized = y_centered / torch.norm(y_centered, p=2, dim=1, keepdim=True)\n",
    "\n",
    "        x_normalized = x_normalized.reshape(N, C, -1)                               \n",
    "        y_normalized = y_normalized.reshape(N, C, -1)                               \n",
    "        cosine_sim = torch.bmm(x_normalized.transpose(1, 2), y_normalized)          \n",
    "\n",
    "        d = 1 - cosine_sim                                  \n",
    "        d_min, _ = torch.min(d, dim=2, keepdim=True)        \n",
    "\n",
    "        d_tilde = d / (d_min + 1e-5)\n",
    "\n",
    "        w = torch.exp((1 - d_tilde) / self.h)\n",
    "\n",
    "        ccx_ij = w / torch.sum(w, dim=2, keepdim=True)       \n",
    "        ccx = torch.mean(torch.max(ccx_ij, dim=1)[0], dim=1) \n",
    "        ccx_loss = torch.mean(-torch.log(ccx + self.eps))\n",
    "        return ccx_loss"
   ]
  },
  {
   "cell_type": "code",
   "execution_count": 5,
   "metadata": {},
   "outputs": [],
   "source": [
    "img0 = torch.ones(1,3,64,64)\n",
    "img1 = torch.zeros(1,3,64,64)"
   ]
  },
  {
   "cell_type": "code",
   "execution_count": 6,
   "metadata": {},
   "outputs": [
    {
     "data": {
      "text/plain": [
       "tensor(1.)"
      ]
     },
     "execution_count": 6,
     "metadata": {},
     "output_type": "execute_result"
    }
   ],
   "source": [
    "loss(img0,img1)"
   ]
  },
  {
   "cell_type": "code",
   "execution_count": null,
   "metadata": {},
   "outputs": [],
   "source": []
  }
 ],
 "metadata": {
  "kernelspec": {
   "display_name": "Python 3",
   "language": "python",
   "name": "python3"
  },
  "language_info": {
   "codemirror_mode": {
    "name": "ipython",
    "version": 3
   },
   "file_extension": ".py",
   "mimetype": "text/x-python",
   "name": "python",
   "nbconvert_exporter": "python",
   "pygments_lexer": "ipython3",
   "version": "3.7.7"
  }
 },
 "nbformat": 4,
 "nbformat_minor": 4
}
